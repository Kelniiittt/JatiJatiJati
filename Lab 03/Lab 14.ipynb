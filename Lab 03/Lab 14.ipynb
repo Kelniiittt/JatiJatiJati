{
  "nbformat": 4,
  "nbformat_minor": 0,
  "metadata": {
    "colab": {
      "provenance": [],
      "gpuType": "T4",
      "authorship_tag": "ABX9TyMlN7EkrVH2h2E9FImwGYX6"
    },
    "kernelspec": {
      "name": "python3",
      "display_name": "Python 3"
    },
    "language_info": {
      "name": "python"
    },
    "accelerator": "GPU"
  },
  "cells": [
    {
      "cell_type": "code",
      "execution_count": 1,
      "metadata": {
        "id": "WmrWhNVGOl51"
      },
      "outputs": [],
      "source": [
        "import os, logging, pandas\n",
        "\n",
        "import tensorflow as tf\n",
        "\n",
        "logging.getLogger(\"tensorflow\").setLevel(logging.ERROR)"
      ]
    },
    {
      "cell_type": "code",
      "source": [
        "if not os.path.isdir(\"/tmp/data\"):\n",
        "\n",
        "  os.makedirs(\"/tmp/data\")"
      ],
      "metadata": {
        "id": "lbSBGPTtOv3c"
      },
      "execution_count": 2,
      "outputs": []
    },
    {
      "cell_type": "code",
      "source": [
        "!gsutil cp gs://cloud-training-demos/feat_eng/data/taxi*.csv /tmp/data"
      ],
      "metadata": {
        "id": "PtOl8dvZO-tc"
      },
      "execution_count": null,
      "outputs": []
    },
    {
      "cell_type": "code",
      "source": [
        "os.listdir(\"/tmp/data\")"
      ],
      "metadata": {
        "id": "ax9qLFeYPD09",
        "outputId": "a3d6b76b-2a5b-46aa-da97-d74471db7046",
        "colab": {
          "base_uri": "https://localhost:8080/"
        }
      },
      "execution_count": 4,
      "outputs": [
        {
          "output_type": "execute_result",
          "data": {
            "text/plain": [
              "['taxi-train.csv', 'taxi-test.csv', 'taxi-valid.csv']"
            ]
          },
          "metadata": {},
          "execution_count": 4
        }
      ]
    },
    {
      "cell_type": "code",
      "source": [
        "sample = pandas.read_table('/tmp/data/taxi-train.csv', sep=',')\n",
        "\n",
        "sample.shape[1]"
      ],
      "metadata": {
        "id": "_QCd2Mj_PGuz",
        "outputId": "c694de77-8812-4bc7-d7cd-04deaa52cdb3",
        "colab": {
          "base_uri": "https://localhost:8080/"
        }
      },
      "execution_count": 5,
      "outputs": [
        {
          "output_type": "execute_result",
          "data": {
            "text/plain": [
              "8"
            ]
          },
          "metadata": {},
          "execution_count": 5
        }
      ]
    },
    {
      "cell_type": "code",
      "source": [
        "sample.columns.tolist()[:4]"
      ],
      "metadata": {
        "id": "Rul-7HC6PQt3",
        "outputId": "fbe7ba7a-d568-41f0-d9c9-08d287b87519",
        "colab": {
          "base_uri": "https://localhost:8080/"
        }
      },
      "execution_count": 6,
      "outputs": [
        {
          "output_type": "execute_result",
          "data": {
            "text/plain": [
              "['fare_amount', 'passenger_count', 'pickup_longitude', 'pickup_latitude']"
            ]
          },
          "metadata": {},
          "execution_count": 6
        }
      ]
    },
    {
      "cell_type": "code",
      "source": [
        "sample.columns.tolist()[4:]"
      ],
      "metadata": {
        "id": "snRN-dAHPTMJ",
        "outputId": "28b1e727-641b-46e6-fe44-a28b6e10c765",
        "colab": {
          "base_uri": "https://localhost:8080/"
        }
      },
      "execution_count": 7,
      "outputs": [
        {
          "output_type": "execute_result",
          "data": {
            "text/plain": [
              "['dropoff_longitude', 'dropoff_latitude', 'hourofday', 'dayofweek']"
            ]
          },
          "metadata": {},
          "execution_count": 7
        }
      ]
    },
    {
      "cell_type": "code",
      "source": [
        "LabelColumn = sample.columns.tolist()[0]\n",
        "\n",
        "FeatureCols = sample.columns.tolist()[1:]\n",
        "\n",
        "len(FeatureCols)"
      ],
      "metadata": {
        "id": "IoSdsXK_PXBp",
        "outputId": "925b157d-184d-4b33-ad59-b5be4ffdb28e",
        "colab": {
          "base_uri": "https://localhost:8080/"
        }
      },
      "execution_count": 8,
      "outputs": [
        {
          "output_type": "execute_result",
          "data": {
            "text/plain": [
              "7"
            ]
          },
          "metadata": {},
          "execution_count": 8
        }
      ]
    },
    {
      "cell_type": "code",
      "source": [
        "from tensorflow.data.experimental import make_csv_dataset\n",
        "\n",
        "def FeatureLabel(dataset):\n",
        "  \"\"\"\n",
        "  Feature & Label\n",
        "  \"\"\"\n",
        "  label = dataset.pop(LabelColumn)\n",
        "\n",
        "  return dataset, label\n",
        "\n",
        "def CreateShuffleDataset(pattern, batches, mode='eval'):\n",
        "  \"\"\"\n",
        "  Create Shuffle Dataset\n",
        "\n",
        "  >>> CreateShuffleDataset('taxi-train.csv', 2, 'train')\n",
        "\n",
        "  >>> CreateShuffleDataset('taxi-train.csv', 2)\n",
        "  \"\"\"\n",
        "  dataset = make_csv_dataset(pattern, batches)\n",
        "  dataset = dataset.map(FeatureLabel).cache()\n",
        "  if mode == 'train':\n",
        "    # Shuffle Train Dataset\n",
        "    dataset = dataset.shuffle(1000).repeat()\n",
        "    dataset = dataset.prefetch(1)\n",
        "  return dataset"
      ],
      "metadata": {
        "id": "4TBpnukMPyno"
      },
      "execution_count": 9,
      "outputs": []
    },
    {
      "cell_type": "code",
      "source": [
        "from tensorflow.keras import layers, models\n",
        "\n",
        "from tensorflow import feature_column as fc\n",
        "\n",
        "def BuildModel():\n",
        "  \"\"\"\n",
        "  Functional Model\n",
        "  \"\"\"\n",
        "  inputs = {}; feature_columns = {}\n",
        "  # Input Layer\n",
        "  for colname in FeatureCols:\n",
        "    inputs[colname] = layers.Input(name=colname, shape=(1,), dtype='float32')\n",
        "  # Set Feature Columns\n",
        "  for colname in FeatureCols:\n",
        "    feature_columns[colname] = fc.numeric_column(colname)\n",
        "  # Hidden Layer\n",
        "  # Dense Features Error to Deprecate, Find Something Similar in Function !\n",
        "  numerical_inputs = [inputs[colname] for colname in FeatureCols]\n",
        "  dnn_inputs = layers.Concatenate()(numerical_inputs)\n",
        "  first_layer = layers.Dense(32, activation='relu')(dnn_inputs)\n",
        "  second_layer = layers.Dense(8, activation='relu')(first_layer)\n",
        "  output = layers.Dense(1, activation='linear')(second_layer)\n",
        "  # Create Model\n",
        "  model = models.Model(inputs, output)\n",
        "  # Model Compile\n",
        "  model.compile(optimizer='adam', loss='mse', metrics=['mse'])\n",
        "  return model"
      ],
      "metadata": {
        "id": "CffisFNwRDyf"
      },
      "execution_count": 10,
      "outputs": []
    },
    {
      "cell_type": "code",
      "source": [
        "TrainExamples = len(pandas.read_table('/tmp/data/taxi-train.csv', sep=','))\n",
        "\n",
        "ValidExamples = len(pandas.read_table('/tmp/data/taxi-valid.csv', sep=','))\n",
        "\n",
        "TrainBatchSize = 32\n",
        "\n",
        "steps_per_epoch = TrainExamples // TrainBatchSize"
      ],
      "metadata": {
        "id": "GdRdxP4ASBbq"
      },
      "execution_count": 11,
      "outputs": []
    },
    {
      "cell_type": "code",
      "source": [
        "train = CreateShuffleDataset('/tmp/data/taxi-train.csv', TrainBatchSize, 'train')\n",
        "\n",
        "test = CreateShuffleDataset('/tmp/data/taxi-valid.csv', 1000, 'eval').take(ValidExamples // 1000)"
      ],
      "metadata": {
        "id": "yxJC0QOk90F8"
      },
      "execution_count": 12,
      "outputs": []
    },
    {
      "cell_type": "code",
      "source": [
        "model = BuildModel()\n",
        "\n",
        "hist = model.fit(train, validation_data=test, epochs=18, steps_per_epoch=steps_per_epoch, verbose=False)"
      ],
      "metadata": {
        "id": "BSLB_xmw9hjc"
      },
      "execution_count": 13,
      "outputs": []
    },
    {
      "cell_type": "code",
      "source": [
        "model.evaluate(test, verbose=False)"
      ],
      "metadata": {
        "id": "PfEEMPSqO41A",
        "outputId": "b9175a1a-8106-4f9b-b604-4871f8e142d8",
        "colab": {
          "base_uri": "https://localhost:8080/"
        }
      },
      "execution_count": 15,
      "outputs": [
        {
          "output_type": "execute_result",
          "data": {
            "text/plain": [
              "[100.49900817871094, 100.49900817871094]"
            ]
          },
          "metadata": {},
          "execution_count": 15
        }
      ]
    },
    {
      "cell_type": "code",
      "source": [
        "FeatCols = ['pickup_longitude', 'pickup_latitude', 'dropoff_longitude', 'dropoff_latitude']\n",
        "\n",
        "ScaleLongitude = lambda lon : (lon + 78) / 8.0\n",
        "\n",
        "ScaleLatitude = lambda lat : (lat - 37) / 8.0\n",
        "\n",
        "def EucliDistance(params):\n",
        "  \"\"\"\n",
        "  Euclidean Distance\n",
        "  \"\"\"\n",
        "  lon_origin, lat_origin, lon_goal, lat_goal = params\n",
        "  londiff = lon_goal - lon_origin\n",
        "  latdiff = lat_goal - lat_origin\n",
        "  result = tf.sqrt(londiff * londiff + latdiff * latdiff)\n",
        "  return result"
      ],
      "metadata": {
        "id": "i1DE230TQH3Q"
      },
      "execution_count": null,
      "outputs": []
    }
  ]
}