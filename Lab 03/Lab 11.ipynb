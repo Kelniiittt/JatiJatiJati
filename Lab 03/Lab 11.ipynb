{
  "cells": [
    {
      "cell_type": "code",
      "execution_count": 1,
      "metadata": {
        "id": "O2o84wkHh8uP"
      },
      "outputs": [],
      "source": [
        "import tensorflow as tf\n",
        "\n",
        "from tensorflow.keras import optimizers, datasets, layers, models\n",
        "\n",
        "(train_image, train_label), (test_image, test_label) = datasets.fashion_mnist.load_data()"
      ]
    },
    {
      "cell_type": "code",
      "execution_count": 2,
      "metadata": {
        "colab": {
          "base_uri": "https://localhost:8080/"
        },
        "id": "-QVJ1b4CijcV",
        "outputId": "edee6ec0-46d1-46d6-ce17-3975c01f31e9"
      },
      "outputs": [
        {
          "data": {
            "text/plain": [
              "(0.0, 1.0)"
            ]
          },
          "execution_count": 2,
          "metadata": {},
          "output_type": "execute_result"
        }
      ],
      "source": [
        "import numpy as np\n",
        "\n",
        "ReScale = lambda img : tf.cast(img, tf.float32) / 255.0\n",
        "\n",
        "train_image = ReScale(train_image)\n",
        "\n",
        "np.min(train_image[0]), np.max(train_image[0])"
      ]
    },
    {
      "cell_type": "code",
      "execution_count": 3,
      "metadata": {
        "colab": {
          "base_uri": "https://localhost:8080/"
        },
        "id": "qy6zEhaSiuLX",
        "outputId": "92911888-9d38-4abb-cff9-f90826ac73cc"
      },
      "outputs": [
        {
          "data": {
            "text/plain": [
              "(0.0, 1.0)"
            ]
          },
          "execution_count": 3,
          "metadata": {},
          "output_type": "execute_result"
        }
      ],
      "source": [
        "test_image = ReScale(test_image)\n",
        "\n",
        "np.min(test_image[0]), np.max(test_image[0])"
      ]
    },
    {
      "cell_type": "code",
      "execution_count": 4,
      "metadata": {
        "id": "aHxLpGQPji70"
      },
      "outputs": [],
      "source": [
        "import warnings; warnings.filterwarnings('ignore')\n",
        "\n",
        "from tensorflow.keras.models import Sequential\n",
        "\n",
        "input_shape = (28, 28)\n",
        "\n",
        "model = Sequential()\n",
        "\n",
        "model.add(layers.Flatten(input_shape=input_shape))\n",
        "\n",
        "model.add(layers.Dense(128, activation='relu'))\n",
        "\n",
        "model.add(layers.Dense(10, activation='softmax'))"
      ]
    },
    {
      "cell_type": "code",
      "execution_count": 5,
      "metadata": {
        "id": "G8wzK8nXj576"
      },
      "outputs": [],
      "source": [
        "loss = 'sparse_categorical_crossentropy'\n",
        "\n",
        "model.compile(optimizer='adam', loss=loss, metrics=['accuracy'])\n",
        "\n",
        "hist = model.fit(train_image, train_label, epochs=8, validation_data=(test_image, test_label))"
      ]
    },
    {
      "cell_type": "code",
      "execution_count": 6,
      "metadata": {
        "colab": {
          "base_uri": "https://localhost:8080/"
        },
        "id": "1NXMaduclrT5",
        "outputId": "801f62da-f9b5-4aab-95ad-4630c0283b2f"
      },
      "outputs": [
        {
          "data": {
            "text/plain": [
              "[0.23804238438606262, 0.9101333618164062]"
            ]
          },
          "execution_count": 6,
          "metadata": {},
          "output_type": "execute_result"
        }
      ],
      "source": [
        "model.evaluate(train_image, train_label, verbose=False)"
      ]
    },
    {
      "cell_type": "code",
      "execution_count": 7,
      "metadata": {
        "colab": {
          "base_uri": "https://localhost:8080/"
        },
        "id": "Vx_fROQpltL4",
        "outputId": "8080edcc-e70a-4bd6-eb1c-06f359de1fcd"
      },
      "outputs": [
        {
          "data": {
            "text/plain": [
              "[0.34085509181022644, 0.8813999891281128]"
            ]
          },
          "execution_count": 7,
          "metadata": {},
          "output_type": "execute_result"
        }
      ],
      "source": [
        "model.evaluate(test_image, test_label, verbose=False)"
      ]
    },
    {
      "cell_type": "code",
      "execution_count": 8,
      "metadata": {
        "id": "R8EUE2Hrmbb0"
      },
      "outputs": [],
      "source": [
        "import keras_tuner as kt\n",
        "\n",
        "def model_builder(hp):\n",
        "  \"\"\"\n",
        "  Keras Tuner Model Builder\n",
        "  \"\"\"\n",
        "  model = Sequential()\n",
        "\n",
        "  model.add(layers.Flatten(input_shape=input_shape))\n",
        "\n",
        "  units = hp.Int('units', min_value=16, max_value=48, step=16)\n",
        "\n",
        "  model.add(layers.Dense(units, activation='relu'))\n",
        "\n",
        "  model.add(layers.Dense(10, activation='softmax'))\n",
        "\n",
        "  choices = hp.Choice('learning_rate', values=[0.01, 0.001, 0.0001])\n",
        "\n",
        "  optim = optimizers.Adam(learning_rate=choices)\n",
        "\n",
        "  model.compile(optimizer=optim, loss=loss, metrics=['accuracy'])\n",
        "\n",
        "  return model"
      ]
    },
    {
      "cell_type": "code",
      "execution_count": null,
      "metadata": {
        "id": "N8Q5JsPtn5Ss"
      },
      "outputs": [],
      "source": [
        "target = 'val_accuracy'\n",
        "\n",
        "project = 'Belajar Keras Tuner'\n",
        "\n",
        "tuner = kt.Hyperband(model_builder, objective=target, max_epochs=8, factor=3, project_name=project)\n",
        "\n",
        "tuner.search(train_image, train_label, epochs=8, validation_data=(test_image, test_label))"
      ]
    },
    {
      "cell_type": "code",
      "execution_count": 10,
      "metadata": {
        "colab": {
          "base_uri": "https://localhost:8080/"
        },
        "id": "tOTW4g9Mp4q5",
        "outputId": "efb6f4d8-d61e-4e16-a442-18ef23bbe196"
      },
      "outputs": [
        {
          "data": {
            "text/plain": [
              "48"
            ]
          },
          "execution_count": 10,
          "metadata": {},
          "output_type": "execute_result"
        }
      ],
      "source": [
        "resulta = tuner.get_best_hyperparameters()[0]\n",
        "\n",
        "resulta.get('units')"
      ]
    },
    {
      "cell_type": "code",
      "execution_count": 11,
      "metadata": {
        "colab": {
          "base_uri": "https://localhost:8080/"
        },
        "id": "MKQ7GjA0p9cU",
        "outputId": "8ca29836-b445-48f6-ba8e-73efac3bfb58"
      },
      "outputs": [
        {
          "data": {
            "text/plain": [
              "0.001"
            ]
          },
          "execution_count": 11,
          "metadata": {},
          "output_type": "execute_result"
        }
      ],
      "source": [
        "resulta.get('learning_rate')"
      ]
    },
    {
      "cell_type": "code",
      "execution_count": 12,
      "metadata": {
        "colab": {
          "base_uri": "https://localhost:8080/"
        },
        "id": "tHBmtDMVq3CA",
        "outputId": "ee8b9c99-9544-4258-955d-2cc35c3dd230"
      },
      "outputs": [
        {
          "data": {
            "text/plain": [
              "[0.2908763587474823, 0.8932666778564453]"
            ]
          },
          "execution_count": 12,
          "metadata": {},
          "output_type": "execute_result"
        }
      ],
      "source": [
        "best_models = tuner.get_best_models(num_models=1)[0]\n",
        "\n",
        "best_models.evaluate(train_image, train_label, verbose=False)"
      ]
    },
    {
      "cell_type": "code",
      "execution_count": 13,
      "metadata": {
        "colab": {
          "base_uri": "https://localhost:8080/"
        },
        "id": "GFepRCjUq4sL",
        "outputId": "07fa59c3-b5c5-44f6-c58c-9680fa4cd52c"
      },
      "outputs": [
        {
          "data": {
            "text/plain": [
              "[0.3684285879135132, 0.8684999942779541]"
            ]
          },
          "execution_count": 13,
          "metadata": {},
          "output_type": "execute_result"
        }
      ],
      "source": [
        "best_models.evaluate(test_image, test_label, verbose=False)"
      ]
    }
  ],
  "metadata": {
    "colab": {
      "provenance": []
    },
    "kernelspec": {
      "display_name": "Python 3",
      "name": "python3"
    },
    "language_info": {
      "name": "python"
    }
  },
  "nbformat": 4,
  "nbformat_minor": 0
}
